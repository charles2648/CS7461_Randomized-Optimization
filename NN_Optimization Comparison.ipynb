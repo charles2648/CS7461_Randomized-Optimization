{
 "cells": [
  {
   "cell_type": "code",
   "execution_count": null,
   "metadata": {
    "id": "dHxgpB8Pjhs3",
    "colab": {
     "base_uri": "https://localhost:8080/"
    },
    "outputId": "7462b409-e460-4844-bee6-bff176379eef",
    "pycharm": {
     "name": "#%%\n"
    }
   },
   "outputs": [],
   "source": [
    "import pandas as pd\n",
    "import numpy as np\n",
    "import seaborn as sns\n",
    "import mlrose_hiive as mlrh\n",
    "\n",
    "%matplotlib inline\n",
    "import matplotlib.pyplot as plt\n",
    "plt.style.use('seaborn-whitegrid')"
   ]
  },
  {
   "cell_type": "markdown",
   "metadata": {
    "id": "yA06rd_w7Ydt",
    "pycharm": {
     "name": "#%% md\n"
    }
   },
   "source": [
    "The text dataset (depression_dataset_reddit_cleaned) is adopted from kaggle (https://www.kaggle.com/datasets/infamouscoder/depression-reddit-cleaned), which contains texts to classify mental health.\n",
    "\n",
    "### Load Data"
   ]
  },
  {
   "cell_type": "code",
   "execution_count": null,
   "metadata": {
    "colab": {
     "base_uri": "https://localhost:8080/",
     "height": 224
    },
    "id": "ltwyt7PPh004",
    "outputId": "ab665890-b16a-4ac3-9c97-f0775a6d371b",
    "pycharm": {
     "name": "#%%\n"
    }
   },
   "outputs": [],
   "source": [
    "# load drybean data\n",
    "df_bean = pd.read_excel('Dry_Bean_Dataset.xlsx')\n",
    "print(\"Data has\", len(df_bean), \"rows and\", len(df_bean.columns), \"columns.\")\n",
    "if df_bean.isnull().values.any():\n",
    "    print(\"Warning: Missing Data\")\n",
    "label = df_bean[\"Class\"].unique()\n",
    "df_bean.head()"
   ]
  },
  {
   "cell_type": "markdown",
   "source": [
    "#### Data Preparation"
   ],
   "metadata": {
    "id": "NwLcmGlq62qo",
    "pycharm": {
     "name": "#%% md\n"
    }
   }
  },
  {
   "cell_type": "markdown",
   "metadata": {
    "id": "WNnUG4hBtCOU",
    "pycharm": {
     "name": "#%% md\n"
    }
   },
   "source": [
    "## Gradient Descent vs Optimization method\n",
    "\n",
    "In this part, Gradient Descent is compared with randomized hill climbing, simulated annealing and genetic algorithm"
   ]
  },
  {
   "cell_type": "markdown",
   "metadata": {
    "id": "KxxPl26I4GF0",
    "pycharm": {
     "name": "#%% md\n"
    }
   },
   "source": [
    "### Define Helper functions\n",
    "Let's define some helper functions that will be used across all of the models. We define a function that plots the learning curve of an classification model. Additionally, we define functions to output final model scores using an untouched test dataset."
   ]
  },
  {
   "cell_type": "code",
   "execution_count": null,
   "outputs": [],
   "source": [
    "from sklearn.model_selection import cross_validate\n",
    "from sklearn.metrics import precision_score, accuracy_score, ConfusionMatrixDisplay, roc_auc_score, recall_score, classification_report\n",
    "import timeit\n",
    "\n",
    "plt.rcParams['xtick.labelsize'] = 12\n",
    "plt.rcParams['ytick.labelsize'] = 12\n",
    "plt.rcParams['axes.titlesize'] = 12\n",
    "plt.rcParams['font.size'] = 12\n",
    "\n",
    "def plot_learning_curve(clf, X, y, title=\"Insert Title\"):\n",
    "\n",
    "    n = len(y)\n",
    "    train_mean = [] #model performance score (f1)\n",
    "    cv_mean = []  #model performance score (f1)\n",
    "    fit_mean = [] #model fit/training time\n",
    "    pred_mean = [] #model test/prediction times\n",
    "    train_sizes = (np.linspace(0.1, 1.0, 5)*n).astype('int')\n",
    "\n",
    "    fit_clf = clf.fit(X, y)\n",
    "\n",
    "    for i in train_sizes:\n",
    "        idx = np.random.randint(X.shape[0], size=i)\n",
    "        X_subset = X[idx,:]\n",
    "        y_subset = y[idx]\n",
    "        scores = cross_validate(clf, X_subset, y_subset, cv=5, scoring='f1_weighted', n_jobs=-1, return_train_score=True)\n",
    "\n",
    "        train_mean.append(np.mean(scores['train_score']))\n",
    "        cv_mean.append(np.mean(scores['test_score']))\n",
    "        fit_mean.append(np.mean(scores['fit_time']))\n",
    "        pred_mean.append(np.mean(scores['score_time']))\n",
    "\n",
    "    train_mean = np.array(train_mean)\n",
    "    cv_mean = np.array(cv_mean)\n",
    "    fit_mean = np.array(fit_mean)\n",
    "\n",
    "    plot_LC(train_sizes, train_mean, cv_mean, title)\n",
    "    plot_times(train_sizes, fit_mean, pred_mean, title)\n",
    "    plot_fitness_iteration(fit_clf.fitness_curve, \"{} Fitness Curve\".format(title))\n",
    "\n",
    "\n",
    "\n",
    "def plot_LC(train_sizes, train_mean, cv_mean, title):\n",
    "\n",
    "    plt.figure()\n",
    "    plt.title(\"Learning Curve: \"+ title)\n",
    "    plt.xlabel(\"Training Examples\")\n",
    "    plt.ylabel(\"Model Accuracy Score\")\n",
    "    plt.plot(train_sizes, train_mean, 'o-', color=\"b\", label=\"Training Score\")\n",
    "    plt.plot(train_sizes, cv_mean, 'o-', color=\"r\", label=\"Cross-Validation Score\")\n",
    "    plt.legend(loc=\"best\")\n",
    "    plt.show()\n",
    "\n",
    "\n",
    "def plot_times(train_sizes, fit_mean, pred_mean, title):\n",
    "\n",
    "    plt.figure()\n",
    "    plt.title(\"Modeling Time: \"+ title)\n",
    "    plt.xlabel(\"Training Examples\")\n",
    "    plt.ylabel(\"Training Time (s)\")\n",
    "    plt.plot(train_sizes, fit_mean, 'o-', color=\"b\", label=\"Training Time (s)\")\n",
    "    plt.plot(train_sizes, pred_mean, 'o-', color=\"r\", label=\"Prediction Time (s)\")\n",
    "    plt.legend(loc=\"best\")\n",
    "    plt.show()\n",
    "\n",
    "def plot_fitness_iteration(curve, title, max_fitness=None):\n",
    "    plt.figure()\n",
    "    plt.xlabel('Iteration')\n",
    "    plt.ylabel('Fitness')\n",
    "    plt.title(title)\n",
    "    length = len(curve)\n",
    "    plt.plot(range(length), curve, label='Fitness', lw=2)\n",
    "\n",
    "    if max_fitness:\n",
    "        plt.plot(range(length), [max_fitness] * length, label=\"Max Fitness\", lw=1, color=\"darkorange\")\n",
    "\n",
    "    plt.legend(loc=\"best\")\n",
    "    plt.show()\n",
    "\n",
    "\n",
    "def final_classifier_evaluation(clf,X_train, X_test, y_train, y_test):\n",
    "\n",
    "    start_time = timeit.default_timer()\n",
    "    clf.fit(X_train, y_train)\n",
    "    end_time = timeit.default_timer()\n",
    "    training_time = end_time - start_time\n",
    "\n",
    "    y_pred_train = clf.predict(X_train)\n",
    "\n",
    "    start_time = timeit.default_timer()\n",
    "    y_pred_test = clf.predict(X_test)\n",
    "    end_time = timeit.default_timer()\n",
    "    pred_time = end_time - start_time\n",
    "\n",
    "    accuracy = accuracy_score(y_test, y_pred_test)\n",
    "\n",
    "    print(\"Model Evaluation Metrics Using Test Dataset\")\n",
    "    print(\"*****************************************************\")\n",
    "    print(\"Model Training Time (s):   \"+\"{:.5f}\".format(training_time))\n",
    "    print(\"Model Prediction Time (s): \"+\"{:.5f}\\n\".format(pred_time))\n",
    "    print(\"Accuracy:  \"+\"{:.2f}\".format(accuracy))\n",
    "    print(\"Training Classification report\", classification_report(y_train, y_pred_train))\n",
    "    print(\"*****************************************************\")\n",
    "    print(\"Testing Classification report\", classification_report(y_test, y_pred_test))"
   ],
   "metadata": {
    "collapsed": false,
    "pycharm": {
     "name": "#%%\n"
    }
   }
  },
  {
   "cell_type": "markdown",
   "metadata": {
    "id": "kevr6Y6IuaJT",
    "pycharm": {
     "name": "#%% md\n"
    }
   },
   "source": [
    "### Gradient Descent"
   ]
  },
  {
   "cell_type": "code",
   "execution_count": null,
   "outputs": [],
   "source": [
    "# turn categorical class type into numerical values\n",
    "from sklearn.preprocessing import StandardScaler\n",
    "from sklearn.model_selection import train_test_split\n",
    "\n",
    "X = df_bean.drop(['Class'], axis=1)\n",
    "y = df_bean.Class\n",
    "\n",
    "# Data Split\n",
    "X_train, X_test, y_train, y_test = train_test_split(np.array(X), y, test_size = 0.2, random_state = 100, stratify=y)\n",
    "\n",
    "# Standardize data\n",
    "scaler = StandardScaler()\n",
    "X_train = scaler.fit_transform(X_train)\n",
    "X_test = scaler.transform(X_test)\n",
    "\n",
    "y_train = pd.get_dummies(y_train.values.ravel()).values\n",
    "y_test = pd.get_dummies(y_test.values.ravel()).values"
   ],
   "metadata": {
    "collapsed": false,
    "pycharm": {
     "name": "#%%\n"
    }
   }
  },
  {
   "cell_type": "code",
   "execution_count": null,
   "outputs": [],
   "source": [
    "# Tune max_iters and learning_rate_init\n",
    "grid_search = {\n",
    "    \"max_iters\": [5000],\n",
    "    \"learning_rate_init\": [0.01, 0.1, 0.5],\n",
    "    \"hidden_layers_sizes\": [3],\n",
    "    \"activation\": [mlrh.neural.activation.relu],\n",
    "    \"is_classifier\": [True],\n",
    "}\n",
    "\n",
    "runner = mlrh.NNGSRunner(x_train=X_train, y_train=y_train,\n",
    "                           x_test=X_test, y_test=y_test,\n",
    "                           experiment_name=\"full_grid_search\",\n",
    "                           output_directory=\"nn_gradient_descent/\",\n",
    "                           algorithm=mlrh.algorithms.gradient_descent,\n",
    "                           grid_search_parameters=grid_search,\n",
    "                           iteration_list = [5000],\n",
    "                           hidden_layer_sizes=[3],\n",
    "                           bias=True,\n",
    "                           early_stopping=True,\n",
    "                           clip_max=1,\n",
    "                           max_attempts=100,\n",
    "                           generate_curves=True,\n",
    "                           seed=100,\n",
    "                           n_jobs=-1\n",
    "                          )\n",
    "run_stats, curves, cv_results, best_est = runner.run()"
   ],
   "metadata": {
    "collapsed": false,
    "pycharm": {
     "name": "#%%\n"
    }
   }
  },
  {
   "cell_type": "code",
   "execution_count": null,
   "outputs": [],
   "source": [
    "best_est.best_params_"
   ],
   "metadata": {
    "collapsed": false,
    "pycharm": {
     "name": "#%%\n"
    }
   }
  },
  {
   "cell_type": "code",
   "execution_count": null,
   "outputs": [],
   "source": [
    "nn_model = mlrh.NeuralNetwork(hidden_nodes = [3],\n",
    "                                activation = 'relu',\n",
    "                                algorithm = 'gradient_descent',\n",
    "                                max_iters = 5000,\n",
    "                                bias = True,\n",
    "                                is_classifier = True,\n",
    "                                learning_rate = 0.1,\n",
    "                                early_stopping = True,\n",
    "                                clip_max = 1.0,\n",
    "                                max_attempts =100,\n",
    "                                curve=True,\n",
    "                                random_state = 100)"
   ],
   "metadata": {
    "collapsed": false,
    "pycharm": {
     "name": "#%%\n"
    }
   }
  },
  {
   "cell_type": "markdown",
   "metadata": {
    "id": "-pNnjz2dTrAs",
    "pycharm": {
     "name": "#%% md\n"
    }
   },
   "source": [
    "The final section for neural network will plot the loss curve."
   ]
  },
  {
   "cell_type": "code",
   "execution_count": null,
   "outputs": [],
   "source": [
    "#plot_learning_curve(nn_model, X_train, y_train, title=\"Gradient Descent\")"
   ],
   "metadata": {
    "collapsed": false,
    "pycharm": {
     "name": "#%%\n"
    }
   }
  },
  {
   "cell_type": "code",
   "execution_count": null,
   "outputs": [],
   "source": [
    "final_classifier_evaluation(nn_model, X_train, X_test, y_train, y_test)"
   ],
   "metadata": {
    "collapsed": false,
    "pycharm": {
     "name": "#%%\n"
    }
   }
  },
  {
   "cell_type": "markdown",
   "metadata": {
    "id": "xkmwJVytUeIS",
    "pycharm": {
     "name": "#%% md\n"
    }
   },
   "source": [
    "### Simulated Annealing\n"
   ]
  },
  {
   "cell_type": "code",
   "execution_count": null,
   "outputs": [],
   "source": [
    "grid_search = {\n",
    "    \"max_iters\": [5000],\n",
    "    \"learning_rate_init\": [0.01, 0.1, 0.5],\n",
    "    \"hidden_layers_sizes\": [3],\n",
    "    \"activation\": [mlrh.neural.activation.relu],\n",
    "    \"is_classifier\": [True],\n",
    "    \"schedule\": [mlrh.GeomDecay(5), mlrh.GeomDecay(10),mlrh.GeomDecay(15),\n",
    "                 mlrh.ArithDecay(5), mlrh.ArithDecay(10), mlrh.ArithDecay(15),\n",
    "                 mlrh.ExpDecay(5), mlrh.ExpDecay(10), mlrh.ExpDecay(15)]\n",
    "}\n",
    "\n",
    "runner = mlrh.NNGSRunner(x_train=X_train, y_train=y_train,\n",
    "                         x_test=X_test, y_test=y_test,\n",
    "                         experiment_name=\"full_grid_search\",\n",
    "                         output_directory=\"nn_simulated_annealing/\",\n",
    "                         algorithm=mlrh.algorithms.sa.simulated_annealing,\n",
    "                         grid_search_parameters=grid_search,\n",
    "                         iteration_list = [5000],\n",
    "                         hidden_layer_sizes=[3],\n",
    "                         bias=True,\n",
    "                         early_stopping=True,\n",
    "                         clip_max=1,\n",
    "                         max_attempts=100,\n",
    "                         generate_curves=True,\n",
    "                         seed=100,\n",
    "                         n_jobs=-1\n",
    "                         )\n",
    "run_stats, curves, cv_results, best_est = runner.run()"
   ],
   "metadata": {
    "collapsed": false,
    "pycharm": {
     "name": "#%%\n"
    }
   }
  },
  {
   "cell_type": "code",
   "execution_count": null,
   "outputs": [],
   "source": [
    "best_est.best_params_"
   ],
   "metadata": {
    "collapsed": false,
    "pycharm": {
     "name": "#%%\n"
    }
   }
  },
  {
   "cell_type": "code",
   "execution_count": null,
   "outputs": [],
   "source": [
    "nn_model = mlrh.NeuralNetwork(hidden_nodes=[3],\n",
    "                                activation='relu',\n",
    "                                algorithm='simulated_annealing',\n",
    "                                schedule=mlrh.GeomDecay(5),\n",
    "                                max_iters=5000,\n",
    "                                max_attempts=100,\n",
    "                                bias=True,\n",
    "                                is_classifier=True,\n",
    "                                learning_rate=0.1,\n",
    "                                early_stopping=True,\n",
    "                                clip_max=1.0,\n",
    "                                curve=True,\n",
    "                                random_state=100)"
   ],
   "metadata": {
    "collapsed": false,
    "pycharm": {
     "name": "#%%\n"
    }
   }
  },
  {
   "cell_type": "code",
   "execution_count": null,
   "outputs": [],
   "source": [
    "#plot_learning_curve(nn_model, X_train, y_train, title=\"Simulated Annealing\")"
   ],
   "metadata": {
    "collapsed": false,
    "pycharm": {
     "name": "#%%\n"
    }
   }
  },
  {
   "cell_type": "code",
   "execution_count": null,
   "outputs": [],
   "source": [
    "final_classifier_evaluation(nn_model, X_train, X_test, y_train, y_test)"
   ],
   "metadata": {
    "collapsed": false,
    "pycharm": {
     "name": "#%%\n"
    }
   }
  },
  {
   "cell_type": "markdown",
   "metadata": {
    "id": "q4d3ok_7blc4",
    "pycharm": {
     "name": "#%% md\n"
    }
   },
   "source": [
    "### Randomized Hill Climbing\n"
   ]
  },
  {
   "cell_type": "code",
   "execution_count": null,
   "outputs": [],
   "source": [
    "grid_search = {\n",
    "    \"max_iters\": [5000],\n",
    "    \"learning_rate_init\": [0.01, 0.1, 0.5],\n",
    "    \"hidden_layers_sizes\": [3],\n",
    "    \"activation\": [mlrh.neural.activation.relu],\n",
    "    \"is_classifier\": [True],\n",
    "    \"restarts\": [5, 10, 20]\n",
    "}\n",
    "\n",
    "runner = mlrh.NNGSRunner(x_train=X_train, y_train=y_train,\n",
    "                         x_test=X_test, y_test=y_test,\n",
    "                         experiment_name=\"full_grid_search\",\n",
    "                         output_directory=\"nn_randomized_hill_climbing/\",\n",
    "                         algorithm=mlrh.algorithms.random_hill_climb,\n",
    "                         grid_search_parameters=grid_search,\n",
    "                         iteration_list = [5000],\n",
    "                         hidden_layer_sizes=[3],\n",
    "                         bias=True,\n",
    "                         early_stopping=True,\n",
    "                         clip_max=1,\n",
    "                         max_attempts=100,\n",
    "                         generate_curves=True,\n",
    "                         seed=100,\n",
    "                         n_jobs=-1\n",
    "                         )\n",
    "run_stats, curves, cv_results, best_est = runner.run()"
   ],
   "metadata": {
    "collapsed": false,
    "pycharm": {
     "name": "#%%\n"
    }
   }
  },
  {
   "cell_type": "code",
   "execution_count": null,
   "outputs": [],
   "source": [
    "best_est.best_params_"
   ],
   "metadata": {
    "collapsed": false,
    "pycharm": {
     "name": "#%%\n"
    }
   }
  },
  {
   "cell_type": "code",
   "execution_count": null,
   "metadata": {
    "id": "go0b0qAkdM5t",
    "pycharm": {
     "name": "#%%\n"
    }
   },
   "outputs": [],
   "source": [
    "nn_model = mlrh.NeuralNetwork(hidden_nodes=[3],\n",
    "                                activation='relu',\n",
    "                                algorithm='random_hill_climb',\n",
    "                                max_iters=5000,\n",
    "                                max_attempts=100,\n",
    "                                bias=True,\n",
    "                                restarts=20,\n",
    "                                is_classifier=True,\n",
    "                                learning_rate=0.1,\n",
    "                                early_stopping=True,\n",
    "                                clip_max=1.0,\n",
    "                                curve=True,\n",
    "                                random_state=100)\n",
    "\n"
   ]
  },
  {
   "cell_type": "code",
   "execution_count": null,
   "outputs": [],
   "source": [
    "#plot_learning_curve(nn_model, X_train, y_train, title=\"Randomized Hill Climbing\")"
   ],
   "metadata": {
    "collapsed": false,
    "pycharm": {
     "name": "#%%\n"
    }
   }
  },
  {
   "cell_type": "code",
   "execution_count": null,
   "outputs": [],
   "source": [
    "final_classifier_evaluation(nn_model, X_train, X_test, y_train, y_test)"
   ],
   "metadata": {
    "collapsed": false,
    "pycharm": {
     "name": "#%%\n"
    }
   }
  },
  {
   "cell_type": "markdown",
   "metadata": {
    "id": "9-pbyKhee6pz",
    "pycharm": {
     "name": "#%% md\n"
    }
   },
   "source": [
    "###  Genetic Algorithm"
   ]
  },
  {
   "cell_type": "code",
   "execution_count": null,
   "outputs": [],
   "source": [
    "grid_search = {\n",
    "    \"max_iters\": [5000],\n",
    "    \"learning_rate_init\": [0.01, 0.1, 0.5],\n",
    "    \"hidden_layers_sizes\": [3],\n",
    "    \"activation\": [mlrh.neural.activation.relu],\n",
    "    \"is_classifier\": [True],\n",
    "    \"mutation_prob\": [0.1, 0.5, 0.7],\n",
    "    \"pop_size\": [500, 750, 1000]\n",
    "}\n",
    "\n",
    "runner = mlrh.NNGSRunner(x_train=X_train, y_train=y_train,\n",
    "                         x_test=X_test, y_test=y_test,\n",
    "                         experiment_name=\"full_grid_search\",\n",
    "                         output_directory=\"nn_genetic_algorithm/\",\n",
    "                         algorithm=mlrh.algorithms.genetic_alg,\n",
    "                         grid_search_parameters=grid_search,\n",
    "                         iteration_list = [5000],\n",
    "                         hidden_layer_sizes=[3],\n",
    "                         bias=True,\n",
    "                         early_stopping=True,\n",
    "                         clip_max=1,\n",
    "                         max_attempts=100,\n",
    "                         generate_curves=True,\n",
    "                         seed=100,\n",
    "                         n_jobs=-1\n",
    "                         )\n",
    "run_stats, curves, cv_results, best_est = runner.run()"
   ],
   "metadata": {
    "collapsed": false,
    "pycharm": {
     "name": "#%%\n"
    }
   }
  },
  {
   "cell_type": "code",
   "execution_count": null,
   "outputs": [],
   "source": [
    "best_est.best_params_"
   ],
   "metadata": {
    "collapsed": false,
    "pycharm": {
     "name": "#%%\n"
    }
   }
  },
  {
   "cell_type": "code",
   "execution_count": null,
   "metadata": {
    "id": "LioDo2JWnkDE",
    "pycharm": {
     "name": "#%%\n"
    }
   },
   "outputs": [],
   "source": [
    "nn_model = mlrh.NeuralNetwork(hidden_nodes=[3],\n",
    "                              activation='relu',\n",
    "                              algorithm='genetic_alg',\n",
    "                              max_iters=5000,\n",
    "                              max_attempts=100,\n",
    "                              bias=True,\n",
    "                              is_classifier=True,\n",
    "                              learning_rate=0.01,\n",
    "                              mutation_prob=0.1,\n",
    "                              pop_size=1000,\n",
    "                              early_stopping=True,\n",
    "                              clip_max=1.0,\n",
    "                              curve=True,\n",
    "                              random_state=100)\n",
    "\n"
   ]
  },
  {
   "cell_type": "code",
   "execution_count": null,
   "outputs": [],
   "source": [
    "#plot_learning_curve(nn_model, X_train, y_train, title=\"Genetic Algorithm\")"
   ],
   "metadata": {
    "collapsed": false,
    "pycharm": {
     "name": "#%%\n"
    }
   }
  },
  {
   "cell_type": "code",
   "execution_count": null,
   "outputs": [],
   "source": [
    "final_classifier_evaluation(nn_model, X_train, X_test, y_train, y_test)"
   ],
   "metadata": {
    "collapsed": false,
    "pycharm": {
     "name": "#%%\n"
    }
   }
  }
 ],
 "metadata": {
  "colab": {
   "collapsed_sections": [],
   "provenance": []
  },
  "kernelspec": {
   "display_name": "Python 3",
   "name": "python3"
  },
  "language_info": {
   "name": "python"
  }
 },
 "nbformat": 4,
 "nbformat_minor": 0
}
